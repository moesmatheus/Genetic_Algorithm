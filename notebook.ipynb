{
 "cells": [
  {
   "cell_type": "code",
   "execution_count": 92,
   "metadata": {
    "collapsed": true
   },
   "outputs": [],
   "source": [
    "import main\n",
    "import numpy as np\n",
    "import string"
   ]
  },
  {
   "cell_type": "code",
   "execution_count": null,
   "metadata": {},
   "outputs": [],
   "source": [
    "#Define Problem"
   ]
  },
  {
   "cell_type": "code",
   "execution_count": 167,
   "metadata": {},
   "outputs": [],
   "source": [
    "#Target string\n",
    "target = 'Hello World my name is Matheus!'\n",
    "\n",
    "#Available Characters\n",
    "char = np.concatenate((list(string.whitespace),list(string.ascii_lowercase),\n",
    "                       list(string.punctuation),list(string.ascii_uppercase)))\n",
    "\n",
    "#Fitness function\n",
    "def get_fitness(guess):\n",
    "  return sum(1 for expected, actual in zip(target, guess)\n",
    "  if expected == actual)"
   ]
  },
  {
   "cell_type": "code",
   "execution_count": null,
   "metadata": {},
   "outputs": [],
   "source": [
    "#Create Class"
   ]
  },
  {
   "cell_type": "code",
   "execution_count": 168,
   "metadata": {
    "collapsed": true
   },
   "outputs": [],
   "source": [
    "GA = main.GA(pop_size = 50, gene_options = [char]*len(target),fitness_function= get_fitness,\n",
    "             polarity= 'Ascending',threshold=5,mutation_rate=0.05\n",
    "             )"
   ]
  },
  {
   "cell_type": "code",
   "execution_count": null,
   "metadata": {},
   "outputs": [],
   "source": [
    "#Execute GA"
   ]
  },
  {
   "cell_type": "code",
   "execution_count": 169,
   "metadata": {},
   "outputs": [
    {
     "name": "stdout",
     "output_type": "stream",
     "text": [
      "#Generation: 1 \t Best Fitness: 2.0000 \t Mean Fitness 1.1400\n"
     ]
    },
    {
     "name": "stdout",
     "output_type": "stream",
     "text": [
      "= e l | [ S W + r { w $ n y : n ) m k   y s   M a G u e ) s !\n#Generation: 21 \t Best Fitness: 15.0000 \t Mean Fitness 14.4200\n"
     ]
    },
    {
     "name": "stdout",
     "output_type": "stream",
     "text": [
      "e e l ) s @ W F r \t j   M y : n N m /   l s   M a D > e u s !\n#Generation: 41 \t Best Fitness: 17.0000 \t Mean Fitness 16.1600\n"
     ]
    },
    {
     "name": "stdout",
     "output_type": "stream",
     "text": [
      "g e l l \n ) W j r \t #   p y   n U m e   T s   M a E p e u s !\n#Generation: 61 \t Best Fitness: 20.0000 \t Mean Fitness 18.7400\nT e l l | f W o r \t s   p y   n \t m e   i s   M a { _ e u s !\n#Generation: 81 \t Best Fitness: 22.0000 \t Mean Fitness 19.8200\n"
     ]
    },
    {
     "name": "stdout",
     "output_type": "stream",
     "text": [
      "H e l l ) a W o r l -   , y   n z m e   i s   M a k P e u s !\n#Generation: 101 \t Best Fitness: 24.0000 \t Mean Fitness 22.7600\nH e l l )   W o r l -   , y   n a m e   i s   M a b P e u s !\n#Generation: 121 \t Best Fitness: 27.0000 \t Mean Fitness 24.7800\n"
     ]
    },
    {
     "name": "stdout",
     "output_type": "stream",
     "text": [
      "H e l l o   W o r l \r   m y   n a m e   i s   M a k h e u s !\n#Generation: 141 \t Best Fitness: 29.0000 \t Mean Fitness 27.6200\nH e l l o   W o r l \r   m y   n a m e   i s   M a | h e u s !\n#Generation: 161 \t Best Fitness: 29.0000 \t Mean Fitness 27.5200\n"
     ]
    },
    {
     "name": "stdout",
     "output_type": "stream",
     "text": [
      "H e l l o   W o r l !   m y   n a m e   i s   M a k h e u s !\n#Generation: 181 \t Best Fitness: 29.0000 \t Mean Fitness 27.4400\nH e l l o   W o r l K   m y   n a m e   i s   M a < h e u s !\n#Generation: 201 \t Best Fitness: 29.0000 \t Mean Fitness 26.9800\n"
     ]
    },
    {
     "name": "stdout",
     "output_type": "stream",
     "text": [
      "H e l l o   W o r l g   m y   n a m e   i s   M a < h e u s !\n#Generation: 221 \t Best Fitness: 29.0000 \t Mean Fitness 27.7200\nH e l l o   W o r l x   m y   n a m e   i s   M a t h e u s !\n"
     ]
    },
    {
     "name": "stdout",
     "output_type": "stream",
     "text": [
      "#Generation: 241 \t Best Fitness: 30.0000 \t Mean Fitness 28.6400\nH e l l o   W o r l d   m y   n a m e   i s   M a t h e u s !\n#Generation: 261 \t Best Fitness: 31.0000 \t Mean Fitness 28.4400\n"
     ]
    },
    {
     "name": "stdout",
     "output_type": "stream",
     "text": [
      "H e l l o   W o r l d   m y   n a m e   i s   M a t h e u s !\n#Generation: 281 \t Best Fitness: 31.0000 \t Mean Fitness 29.6600\nH e l l o   W o r l d   m y   n a m e   i s   M a t h e u s !\n"
     ]
    },
    {
     "name": "stdout",
     "output_type": "stream",
     "text": [
      "#Generation: 301 \t Best Fitness: 31.0000 \t Mean Fitness 29.8600\nH e l l o   W o r l d   m y   n a m e   i s   M a t h e u s !\n#Generation: 321 \t Best Fitness: 31.0000 \t Mean Fitness 29.5200\n"
     ]
    },
    {
     "name": "stdout",
     "output_type": "stream",
     "text": [
      "H e l l o   W o r l d   m y   n a m e   i s   M a t h e u s !\n#Generation: 341 \t Best Fitness: 31.0000 \t Mean Fitness 29.4600\nH e l l o   W o r l d   m y   n a m e   i s   M a t h e u s !\n#Generation: 361 \t Best Fitness: 31.0000 \t Mean Fitness 29.3600\n"
     ]
    },
    {
     "name": "stdout",
     "output_type": "stream",
     "text": [
      "H e l l o   W o r l d   m y   n a m e   i s   M a t h e u s !\n#Generation: 381 \t Best Fitness: 31.0000 \t Mean Fitness 29.5000\nH e l l o   W o r l d   m y   n a m e   i s   M a t h e u s !\n"
     ]
    }
   ],
   "source": [
    "for i in range(20):\n",
    "    GA.batch_generation(20,20)\n",
    "    print(*GA.fittest_gene)"
   ]
  }
 ],
 "metadata": {
  "kernelspec": {
   "display_name": "Python 2",
   "language": "python",
   "name": "python2"
  },
  "language_info": {
   "codemirror_mode": {
    "name": "ipython",
    "version": 2
   },
   "file_extension": ".py",
   "mimetype": "text/x-python",
   "name": "python",
   "nbconvert_exporter": "python",
   "pygments_lexer": "ipython2",
   "version": "2.7.6"
  }
 },
 "nbformat": 4,
 "nbformat_minor": 0
}
