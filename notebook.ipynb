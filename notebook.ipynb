{
 "cells": [
  {
   "cell_type": "code",
   "execution_count": 92,
   "metadata": {
    "collapsed": true
   },
   "outputs": [],
   "source": [
    "import main\n",
    "import numpy as np\n",
    "import string"
   ]
  },
  {
   "cell_type": "markdown",
   "metadata": {},
   "source": [
    "#Define Problem"
   ]
  },
  {
   "cell_type": "code",
   "execution_count": 160,
   "metadata": {},
   "outputs": [],
   "source": [
    "#Target string\n",
    "target = 'Hello Word my name is Matheus!'\n",
    "\n",
    "#Available Characters\n",
    "char = np.concatenate((list(string.whitespace),list(string.ascii_lowercase),\n",
    "                       list(string.punctuation),list(string.ascii_uppercase)))\n",
    "\n",
    "#Fitness function\n",
    "def get_fitness(guess):\n",
    "  return sum(1 for expected, actual in zip(target, guess)\n",
    "  if expected == actual)"
   ]
  },
  {
   "cell_type": "markdown",
   "metadata": {},
   "source": [
    "#Create Class"
   ]
  },
  {
   "cell_type": "code",
   "execution_count": 163,
   "metadata": {
    "collapsed": true
   },
   "outputs": [],
   "source": [
    "GA = main.GA(pop_size = 50, gene_options = [char]*len(target),fitness_function= get_fitness,\n",
    "             polarity= 'Ascending',threshold=5,mutation_rate=0.05\n",
    "             )"
   ]
  },
  {
   "cell_type": "markdown",
   "metadata": {},
   "source": [
    "#Execute GA"
   ]
  },
  {
   "cell_type": "code",
   "execution_count": 162,
   "metadata": {},
   "outputs": [
    {
     "name": "stdout",
     "output_type": "stream",
     "text": [
      "#Generation: 1 \t Best Fitness: 3.0000 \t Mean Fitness 1.0000\nH E l l o z \" o r d   m n \f n a M e   L s s _ s I h e H ! d\n#Generation: 21 \t Best Fitness: 16.0000 \t Mean Fitness 14.4600\n"
     ]
    },
    {
     "name": "stdout",
     "output_type": "stream",
     "text": [
      "H e ` l o   W o r d   m J \f n a M e   + s I U G t h e H s \\\n#Generation: 41 \t Best Fitness: 20.0000 \t Mean Fitness 18.8800\nH e ` l o   W o r d   m E \r n a d e   i s   e C t h e b s {\n#Generation: 61 \t Best Fitness: 22.0000 \t Mean Fitness 20.9000\n"
     ]
    },
    {
     "name": "stdout",
     "output_type": "stream",
     "text": [
      "H e l l o   W o r d   m U > n a \f e   i s   = } t h e + s '\n#Generation: 81 \t Best Fitness: 23.0000 \t Mean Fitness 21.9200\nH e l l o   W o r d   m y   n a \f e   i s   M / t h e ? s `\n#Generation: 101 \t Best Fitness: 26.0000 \t Mean Fitness 24.4600\n"
     ]
    },
    {
     "name": "stdout",
     "output_type": "stream",
     "text": [
      "H e l l o   W o r d   m y   n a ? e   i s   M $ t h e \" s \u000b\n#Generation: 121 \t Best Fitness: 26.0000 \t Mean Fitness 24.6800\nH e l l o   W o r d   m y   n a m e   i s   M a t h e \" s !\n#Generation: 141 \t Best Fitness: 29.0000 \t Mean Fitness 27.3400\n"
     ]
    },
    {
     "name": "stdout",
     "output_type": "stream",
     "text": [
      "H e l l o   W o r d   m y   n a m e   i s   M a t h e q s !\n#Generation: 161 \t Best Fitness: 29.0000 \t Mean Fitness 27.4800\nH e l l o   W o r d   m y   n a m e   i s   M a t h e R s !\n#Generation: 181 \t Best Fitness: 29.0000 \t Mean Fitness 27.5200\n"
     ]
    },
    {
     "name": "stdout",
     "output_type": "stream",
     "text": [
      "H e l l o   W o r d   m y   n a m e   i s   M a t h e \" s !\n#Generation: 201 \t Best Fitness: 29.0000 \t Mean Fitness 27.5000\nH e l l o   W o r d   m y   n a m e   i s   M a t h e v s !\n#Generation: 221 \t Best Fitness: 29.0000 \t Mean Fitness 27.7400\n"
     ]
    },
    {
     "name": "stdout",
     "output_type": "stream",
     "text": [
      "H e l l o   W o r d   m y   n a m e   i s   M a t h e l s !\n#Generation: 241 \t Best Fitness: 29.0000 \t Mean Fitness 27.8600\nH e l l o   W o r d   m y   n a m e   i s   M a t h e V s !\n#Generation: 261 \t Best Fitness: 29.0000 \t Mean Fitness 27.3800\n"
     ]
    },
    {
     "name": "stdout",
     "output_type": "stream",
     "text": [
      "H e l l o   W o r d   m y   n a m e   i s   M a t h e q s !\n#Generation: 281 \t Best Fitness: 29.0000 \t Mean Fitness 27.7800\nH e l l o   W o r d   m y   n a m e   i s   M a t h e u s !\n#Generation: 301 \t Best Fitness: 30.0000 \t Mean Fitness 28.5800\n"
     ]
    },
    {
     "name": "stdout",
     "output_type": "stream",
     "text": [
      "H e l l o   W o r d   m y   n a m e   i s   M a t h e u s !\n#Generation: 321 \t Best Fitness: 30.0000 \t Mean Fitness 28.3800\nH e l l o   W o r d   m y   n a m e   i s   M a t h e u s !\n#Generation: 341 \t Best Fitness: 30.0000 \t Mean Fitness 28.6800\n"
     ]
    },
    {
     "name": "stdout",
     "output_type": "stream",
     "text": [
      "H e l l o   W o r d   m y   n a m e   i s   M a t h e u s !\n#Generation: 361 \t Best Fitness: 30.0000 \t Mean Fitness 28.4800\nH e l l o   W o r d   m y   n a m e   i s   M a t h e u s !\n#Generation: 381 \t Best Fitness: 30.0000 \t Mean Fitness 28.3000\n"
     ]
    },
    {
     "name": "stdout",
     "output_type": "stream",
     "text": [
      "H e l l o   W o r d   m y   n a m e   i s   M a t h e u s !\n"
     ]
    }
   ],
   "source": [
    "for i in range(20):\n",
    "    GA.batch_generation(20,20)\n",
    "    print(*GA.fittest_gene)"
   ]
  },
  {
   "cell_type": "code",
   "execution_count": null,
   "metadata": {},
   "outputs": [],
   "source": []
  }
 ],
 "metadata": {
  "kernelspec": {
   "display_name": "Python 2",
   "language": "python",
   "name": "python2"
  },
  "language_info": {
   "codemirror_mode": {
    "name": "ipython",
    "version": 2
   },
   "file_extension": ".py",
   "mimetype": "text/x-python",
   "name": "python",
   "nbconvert_exporter": "python",
   "pygments_lexer": "ipython2",
   "version": "2.7.6"
  }
 },
 "nbformat": 4,
 "nbformat_minor": 0
}
