{
 "cells": [
  {
   "cell_type": "code",
   "execution_count": 7,
   "metadata": {
    "collapsed": true
   },
   "outputs": [],
   "source": [
    "import main\n",
    "import numpy as np"
   ]
  },
  {
   "cell_type": "code",
   "execution_count": 3,
   "metadata": {},
   "outputs": [
    {
     "ename": "TypeError",
     "evalue": "__init__() missing 2 required positional arguments: 'pop_size' and 'gene_options'",
     "traceback": [
      "\u001b[0;31m---------------------------------------------------------------------------\u001b[0m",
      "\u001b[0;31mTypeError\u001b[0m                                 Traceback (most recent call last)",
      "\u001b[0;32m<ipython-input-3-27d4e2ac7a99>\u001b[0m in \u001b[0;36m<module>\u001b[0;34m()\u001b[0m\n\u001b[0;32m----> 1\u001b[0;31m \u001b[0ma\u001b[0m \u001b[0;34m=\u001b[0m \u001b[0mmain\u001b[0m\u001b[0;34m.\u001b[0m\u001b[0mGA\u001b[0m\u001b[0;34m(\u001b[0m\u001b[0;34m)\u001b[0m\u001b[0;34m\u001b[0m\u001b[0m\n\u001b[0m",
      "\u001b[0;31mTypeError\u001b[0m: __init__() missing 2 required positional arguments: 'pop_size' and 'gene_options'"
     ],
     "output_type": "error"
    }
   ],
   "source": [
    "a = main.GA()"
   ]
  },
  {
   "cell_type": "code",
   "execution_count": 4,
   "metadata": {},
   "outputs": [],
   "source": [
    "ex =[[1,2],[3,4,5]]\n",
    "\n",
    "sizes = [len(a) for a in ex]"
   ]
  },
  {
   "cell_type": "code",
   "execution_count": 7,
   "metadata": {},
   "outputs": [],
   "source": [
    "import numpy as np"
   ]
  },
  {
   "cell_type": "code",
   "execution_count": 17,
   "metadata": {},
   "outputs": [],
   "source": [
    "size = 50 \n",
    "\n",
    "input = np.array(ex[0])\n",
    "\n",
    "np.random.randint(0,len(input),size)\n",
    "\n",
    "randon_feature = lambda size, array: np.array(array)[np.random.randint(0,len(array),size)]\n",
    "\n"
   ]
  },
  {
   "cell_type": "code",
   "execution_count": 21,
   "metadata": {
    "collapsed": true
   },
   "outputs": [
    {
     "data": {
      "text/plain": [
       "array([[1, 4],\n       [1, 3],\n       [2, 5],\n       [1, 3],\n       [1, 3],\n       [1, 3],\n       [1, 5],\n       [1, 4],\n       [1, 5],\n       [1, 5],\n       [1, 3],\n       [1, 3],\n       [2, 5],\n       [2, 3],\n       [2, 3],\n       [2, 3],\n       [1, 3],\n       [1, 3],\n       [1, 5],\n       [1, 3],\n       [2, 4],\n       [1, 3],\n       [1, 4],\n       [2, 4],\n       [2, 4],\n       [1, 4],\n       [1, 4],\n       [1, 3],\n       [2, 3],\n       [1, 5],\n       [2, 5],\n       [2, 5],\n       [1, 3],\n       [1, 4],\n       [1, 5],\n       [2, 4],\n       [2, 4],\n       [2, 3],\n       [1, 5],\n       [2, 4],\n       [2, 3],\n       [2, 4],\n       [2, 5],\n       [1, 5],\n       [2, 4],\n       [1, 3],\n       [1, 3],\n       [1, 5],\n       [1, 5],\n       [2, 4]])"
      ]
     },
     "execution_count": 21,
     "metadata": {},
     "output_type": "execute_result"
    }
   ],
   "source": [
    "np.array(list(map(randon_feature,[size]*len(ex), ex))).transpose()"
   ]
  },
  {
   "cell_type": "code",
   "execution_count": 23,
   "metadata": {},
   "outputs": [
    {
     "data": {
      "text/plain": [
       "array([[1, 4],\n       [1, 5],\n       [1, 4],\n       [1, 4],\n       [2, 3],\n       [1, 4],\n       [1, 4],\n       [2, 5],\n       [2, 4],\n       [2, 3]])"
      ]
     },
     "execution_count": 23,
     "metadata": {},
     "output_type": "execute_result"
    }
   ],
   "source": [
    "def generate_genes(sample,size):\n",
    "    \n",
    "    randon_feature = lambda size, array: np.array(array)[np.random.randint(0,len(array),size)]\n",
    "    \n",
    "    return np.array(list(map(randon_feature,[size]*len(sample), sample))).transpose()\n",
    "\n",
    "generate_genes(ex,10)"
   ]
  },
  {
   "cell_type": "code",
   "execution_count": 13,
   "metadata": {
    "collapsed": true
   },
   "outputs": [
    {
     "data": {
      "text/plain": [
       "array([[1, 4],\n       [1, 3],\n       [2, 4],\n       [2, 3],\n       [2, 3],\n       [1, 4],\n       [2, 3],\n       [1, 4],\n       [1, 3],\n       [2, 5],\n       [1, 5],\n       [1, 4],\n       [1, 5],\n       [2, 3],\n       [1, 3],\n       [1, 3],\n       [2, 3],\n       [1, 4],\n       [2, 3],\n       [2, 4],\n       [2, 5],\n       [2, 4],\n       [2, 5],\n       [2, 4],\n       [1, 3],\n       [1, 4],\n       [1, 5],\n       [2, 3],\n       [1, 5],\n       [2, 5],\n       [1, 5],\n       [2, 3],\n       [2, 4],\n       [1, 3],\n       [2, 3],\n       [2, 3],\n       [2, 5],\n       [2, 3],\n       [1, 4],\n       [2, 5],\n       [1, 5],\n       [2, 5],\n       [1, 4],\n       [1, 4],\n       [2, 5],\n       [2, 4],\n       [1, 5],\n       [2, 5],\n       [1, 4],\n       [1, 5]])"
      ]
     },
     "execution_count": 13,
     "metadata": {},
     "output_type": "execute_result"
    }
   ],
   "source": [
    "a.genes"
   ]
  },
  {
   "cell_type": "code",
   "execution_count": 12,
   "metadata": {
    "collapsed": true
   },
   "outputs": [
    {
     "data": {
      "text/plain": [
       "array([5, 4, 6, 5, 5, 5, 5, 5, 4, 7, 6, 5, 6, 5, 4, 4, 5, 5, 5, 6, 7, 6,\n       7, 6, 4, 5, 6, 5, 6, 7, 6, 5, 6, 4, 5, 5, 7, 5, 5, 7, 6, 7, 5, 5,\n       7, 6, 6, 7, 5, 6])"
      ]
     },
     "execution_count": 12,
     "metadata": {},
     "output_type": "execute_result"
    }
   ],
   "source": [
    "a = main.GA(50,ex,np.sum)#.genes\n",
    "\n",
    "a.get_fitness()\n",
    "\n",
    "a.fitness_scores"
   ]
  },
  {
   "cell_type": "code",
   "execution_count": 28,
   "metadata": {},
   "outputs": [
    {
     "data": {
      "text/plain": [
       "array([3, 2])"
      ]
     },
     "execution_count": 28,
     "metadata": {},
     "output_type": "execute_result"
    }
   ],
   "source": [
    "import numpy as np\n",
    "\n",
    "a = np.array([[1,2],[3,4]])\n",
    "\n",
    "a[[1,0],[0,1]]"
   ]
  },
  {
   "cell_type": "code",
   "execution_count": 32,
   "metadata": {},
   "outputs": [
    {
     "data": {
      "text/plain": [
       "array([3, 7])"
      ]
     },
     "execution_count": 32,
     "metadata": {},
     "output_type": "execute_result"
    }
   ],
   "source": [
    "np.array(list(map(np.sum,a)))"
   ]
  },
  {
   "cell_type": "code",
   "execution_count": 14,
   "metadata": {},
   "outputs": [
    {
     "data": {
      "text/plain": [
       "0"
      ]
     },
     "execution_count": 14,
     "metadata": {},
     "output_type": "execute_result"
    }
   ],
   "source": [
    "1 if 1>2 else 0"
   ]
  },
  {
   "cell_type": "code",
   "execution_count": 27,
   "metadata": {},
   "outputs": [
    {
     "data": {
      "text/plain": [
       "array([[0, 0],\n       [1, 0],\n       [2, 0],\n       [3, 1],\n       [4, 1],\n       [5, 0],\n       [6, 1],\n       [7, 0],\n       [8, 1],\n       [9, 0]])"
      ]
     },
     "execution_count": 27,
     "metadata": {},
     "output_type": "execute_result"
    }
   ],
   "source": [
    "lambda size: np.array(\n",
    "    (np.arange(start= 0, stop = 10),\n",
    "     np.random.randint(low = 0, high = 2, size = 10))).transpose().reshape(-1,2)"
   ]
  }
 ],
 "metadata": {
  "kernelspec": {
   "display_name": "Python 2",
   "language": "python",
   "name": "python2"
  },
  "language_info": {
   "codemirror_mode": {
    "name": "ipython",
    "version": 2
   },
   "file_extension": ".py",
   "mimetype": "text/x-python",
   "name": "python",
   "nbconvert_exporter": "python",
   "pygments_lexer": "ipython2",
   "version": "2.7.6"
  }
 },
 "nbformat": 4,
 "nbformat_minor": 0
}
