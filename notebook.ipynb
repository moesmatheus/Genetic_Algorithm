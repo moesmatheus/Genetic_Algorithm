{
 "cells": [
  {
   "cell_type": "code",
   "execution_count": 10,
   "metadata": {},
   "outputs": [],
   "source": [
    "import main\n",
    "import numpy as np\n",
    "import string"
   ]
  },
  {
   "cell_type": "markdown",
   "metadata": {},
   "source": [
    "## Define Problem"
   ]
  },
  {
   "cell_type": "code",
   "execution_count": 11,
   "metadata": {},
   "outputs": [],
   "source": [
    "#Target string\n",
    "target = 'Hello World my name is Matheus!'\n",
    "\n",
    "#Available Characters\n",
    "char = np.concatenate((list(string.whitespace),list(string.ascii_lowercase),\n",
    "                       list(string.punctuation),list(string.ascii_uppercase)))\n",
    "\n",
    "#Fitness function\n",
    "def get_fitness(guess):\n",
    "  return sum(1 for expected, actual in zip(target, guess)\n",
    "  if expected == actual)"
   ]
  },
  {
   "cell_type": "markdown",
   "metadata": {},
   "source": [
    "## Create Class"
   ]
  },
  {
   "cell_type": "code",
   "execution_count": 12,
   "metadata": {},
   "outputs": [],
   "source": [
    "GA = main.GA(\n",
    "    pop_size = 50, gene_options = [char]*len(target),fitness_function= get_fitness,\n",
    "    polarity= 'Ascending',threshold=5,mutation_rate=0.05\n",
    "             )"
   ]
  },
  {
   "cell_type": "markdown",
   "metadata": {},
   "source": [
    "## Execute GA"
   ]
  },
  {
   "cell_type": "code",
   "execution_count": 13,
   "metadata": {},
   "outputs": [
    {
     "name": "stdout",
     "output_type": "stream",
     "text": [
      "#Generation: 1 \t Best Fitness: 2.0000 \t Mean Fitness 1.2400 \t Execution time: 0.0103\n",
      " ] m i A ] s c M . c y e P s v\n",
      "#Generation: 21 \t Best Fitness: 16.0000 \t Mean Fitness 14.2400 \t Execution time: 0.0072\n",
      "H e \t l o   W o Y l l   m y B n v m i E / s b M q t h e E s v\n",
      "#Generation: 41 \t Best Fitness: 19.0000 \t Mean Fitness 18.0800 \t Execution time: 0.0076\n",
      "H e \t l o   W o D l \f",
      "   m y - n v m i E o s   M a t h e U s !\n",
      "#Generation: 61 \t Best Fitness: 22.0000 \t Mean Fitness 20.1400 \t Execution time: 0.0082\n",
      "H e I l o   W o ~ l &   m y ) n _ m i t F s   M a t h e U s !\n",
      "#Generation: 81 \t Best Fitness: 22.0000 \t Mean Fitness 20.8800 \t Execution time: 0.0075\n",
      "H e l l o   W o ^ l d   m y : n * m o r y s   M a t h e & s !\n",
      "#Generation: 101 \t Best Fitness: 24.0000 \t Mean Fitness 22.1200 \t Execution time: 0.0072\n",
      "H e l l o   W o r l d   m y I n N m + H + s   M a t h e u s !\n",
      "#Generation: 121 \t Best Fitness: 26.0000 \t Mean Fitness 24.6600 \t Execution time: 0.0076\n",
      "H e l l o   W o r l d   m y n n * m @ T | s   M a t h e u s !\n",
      "#Generation: 141 \t Best Fitness: 26.0000 \t Mean Fitness 24.6200 \t Execution time: 0.0089\n",
      "H e l l o   W o r l d   m y : n Q m t   b s   M a t h e u s !\n",
      "#Generation: 161 \t Best Fitness: 27.0000 \t Mean Fitness 25.5400 \t Execution time: 0.0094\n",
      "H e l l o   W o r l d   m y [ n Q m E   R s   M a t h e u s !\n",
      "#Generation: 181 \t Best Fitness: 27.0000 \t Mean Fitness 25.7200 \t Execution time: 0.0084\n",
      "H e l l o   W o r l d   m y b n , m ]   R s   M a t h e u s !\n",
      "#Generation: 201 \t Best Fitness: 28.0000 \t Mean Fitness 25.6600 \t Execution time: 0.0072\n",
      "H e l l o   W o r l d   m y   n a m :   i s   M a t h e u s !\n",
      "#Generation: 221 \t Best Fitness: 30.0000 \t Mean Fitness 28.6400 \t Execution time: 0.0087\n",
      "H e l l o   W o r l d   m y   n a m :   i s   M a t h e u s !\n",
      "#Generation: 241 \t Best Fitness: 30.0000 \t Mean Fitness 28.4400 \t Execution time: 0.0076\n",
      "H e l l o   W o r l d   m y   n a m e   i s   M a t h e u s !\n",
      "#Generation: 261 \t Best Fitness: 31.0000 \t Mean Fitness 28.9000 \t Execution time: 0.0076\n",
      "H e l l o   W o r l d   m y   n a m e   i s   M a t h e u s !\n",
      "#Generation: 281 \t Best Fitness: 31.0000 \t Mean Fitness 29.5400 \t Execution time: 0.0177\n",
      "H e l l o   W o r l d   m y   n a m e   i s   M a t h e u s !\n",
      "#Generation: 301 \t Best Fitness: 31.0000 \t Mean Fitness 29.5000 \t Execution time: 0.0074\n",
      "H e l l o   W o r l d   m y   n a m e   i s   M a t h e u s !\n",
      "#Generation: 321 \t Best Fitness: 31.0000 \t Mean Fitness 29.2000 \t Execution time: 0.0085\n",
      "H e l l o   W o r l d   m y   n a m e   i s   M a t h e u s !\n",
      "#Generation: 341 \t Best Fitness: 31.0000 \t Mean Fitness 29.6800 \t Execution time: 0.0080\n",
      "H e l l o   W o r l d   m y   n a m e   i s   M a t h e u s !\n",
      "#Generation: 361 \t Best Fitness: 31.0000 \t Mean Fitness 29.5200 \t Execution time: 0.0075\n",
      "H e l l o   W o r l d   m y   n a m e   i s   M a t h e u s !\n",
      "#Generation: 381 \t Best Fitness: 31.0000 \t Mean Fitness 29.7200 \t Execution time: 0.0098\n",
      "H e l l o   W o r l d   m y   n a m e   i s   M a t h e u s !\n"
     ]
    }
   ],
   "source": [
    "for i in range(20):\n",
    "    GA.batch_generation(20,20)\n",
    "    print(*GA.fittest_gene)"
   ]
  },
  {
   "cell_type": "code",
   "execution_count": 14,
   "metadata": {},
   "outputs": [
    {
     "data": {
      "image/png": "[encoded data removed]",
      "text/plain": [
       "<Figure size 432x288 with 1 Axes>"
      ]
     },
     "metadata": {
      "needs_background": "light"
     },
     "output_type": "display_data"
    }
   ],
   "source": [
    "import matplotlib.pyplot as plt\n",
    "plt.plot(GA.fit_seq)\n",
    "plt.show()"
   ]
  },
  {
   "cell_type": "code",
   "execution_count": 15,
   "metadata": {},
   "outputs": [
    {
     "data": {
      "image/png": "[encoded data removed]",
      "text/plain": [
       "<Figure size 432x288 with 1 Axes>"
      ]
     },
     "metadata": {
      "needs_background": "light"
     },
     "output_type": "display_data"
    }
   ],
   "source": [
    "plt.plot(GA.fit_seq)\n",
    "plt.show()"
   ]
  }
 ],
 "metadata": {
  "kernelspec": {
   "display_name": "Python 3",
   "language": "python",
   "name": "python3"
  },
  "language_info": {
   "codemirror_mode": {
    "name": "ipython",
    "version": 3
   },
   "file_extension": ".py",
   "mimetype": "text/x-python",
   "name": "python",
   "nbconvert_exporter": "python",
   "pygments_lexer": "ipython3",
   "version": "3.6.7"
  }
 },
 "nbformat": 4,
 "nbformat_minor": 1
}
